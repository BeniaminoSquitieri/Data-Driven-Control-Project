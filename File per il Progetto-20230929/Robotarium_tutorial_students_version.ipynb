{
 "cells": [
  {
   "cell_type": "code",
   "execution_count": 1,
   "metadata": {
    "colab": {
     "base_uri": "https://localhost:8080/",
     "height": 493
    },
    "id": "gVnWq2o6fYCM",
    "outputId": "8dfbf397-4820-4726-caaf-a21e0b322e2c"
   },
   "outputs": [],
   "source": [
    "import rps.robotarium as robotarium\n",
    "from rps.utilities.transformations import *\n",
    "from rps.utilities.barrier_certificates import *\n",
    "from rps.utilities.misc import *\n",
    "from rps.utilities.controllers import *\n",
    "\n",
    "import numpy as np\n",
    "import time\n"
   ]
  },
  {
   "cell_type": "code",
   "execution_count": 2,
   "metadata": {},
   "outputs": [
    {
     "data": {
      "image/png": "[encoded data removed]",
      "text/plain": [
       "<Figure size 640x480 with 1 Axes>"
      ]
     },
     "metadata": {},
     "output_type": "display_data"
    },
    {
     "data": {
      "text/plain": [
       "<Figure size 640x480 with 0 Axes>"
      ]
     },
     "metadata": {},
     "output_type": "display_data"
    }
   ],
   "source": [
    "X_plot = [] #Position log for plotting\n",
    "\n",
    "# Instantiate Robotarium object\n",
    "N = 1 #One robot\n",
    "init_conditions = np.array(np.mat('1; 0.8; 0')) #Initial robot pose Perchè è tridimensionale invece che planare? \n",
    "#Perchè oltre x,y diamo la posa, che nel nostro caso supporremo zero. L'angolo theta è  quello perpendicolare all'asse delle ruote. \n",
    "#Questo si chiama poszione della mano. Nel nostro caso inizia dalla posizione 1, 0.8 con orientazione di 0 radianti. \n",
    "\n",
    "r = robotarium.Robotarium(number_of_robots=N, show_figure=True, initial_conditions=init_conditions, sim_in_real_time=False) #Launch the Robotarium\n",
    "#i parametri sono il numero di robot, la figura da mostrare, le condiizoni iniziali e la simulazione in tempo reale. Quando aggiungi robot\n",
    "#non dimenticarti di specificare piu posizioni iniziali\n",
    "\n",
    "# Task: what does this function do? \n",
    "goal_points = generate_initial_conditions(N)  #genera le posizioni . Generiamo i goal point che sono i punti di arrivo del nostro robot. \n",
    "\n",
    "# For this example we will use a stock controller given by the robotarium: in the project you will create your own controller\n",
    "#Dobbiamo generare un controllore, per ora utilizziamo unn controllore dato da robotarium, controllore semplice che porta il robot a destinazione.\n",
    "single_integrator_position_controller = create_si_position_controller()\n",
    "\n",
    "# Create barrier certificates to avoid collision.  Non le useremo ma si mettono vicino agli oggetti per fargli capire che tipo ha infinito\n",
    "#e quindi non va in quella direzione e cambia direzione. Crea un potenziale alto che impedisce al robot di andare in alcune zone. Come se un costo fosse \n",
    "#infinito in parte dove non dobbiamo andare \n",
    "si_barrier_cert = create_single_integrator_barrier_certificate_with_boundary()\n",
    "\n",
    "# Task: what do these lines do?\n",
    "_, uni_to_si_states = create_si_to_uni_mapping()  #crea un mapping tra unycicle states e gli stati dell'integratore. Da traswformazione per convertire\n",
    "#dati da modello(unycicle) ad altri.\n",
    "si_to_uni_dyn = create_si_to_uni_dynamics_with_backwards_motion()\n",
    "\n",
    "# Initial poses\n",
    "#per le iteraizoni abbiamo bisogno dello stato, quindi ci prendiamo le pose\n",
    "x = r.get_poses() #Unicycle state\n",
    "x_si = uni_to_si_states(x) #x-y position Prendiamo lo stato della coordinata dell'integratore. Abbiamo la x vera e la xs che sta per s single integrator\n",
    "r.step()\n",
    "X_plot.append(x_si)"
   ]
  },
  {
   "cell_type": "code",
   "execution_count": 3,
   "metadata": {},
   "outputs": [
    {
     "name": "stdout",
     "output_type": "stream",
     "text": [
      "##### DEBUG OUTPUT #####\n",
      "Your simulation will take approximately 11 real seconds when deployed on the Robotarium. \n",
      "\n",
      "\t Simulation had 2 iteration(s) where the actuator limits were exceeded.\n"
     ]
    }
   ],
   "source": [
    "# This is a general stopping condition: we check how many agents are 'close enough' to the goal and, if they all are, we can stop the simulation\n",
    "#In questa cella abbiamo la vera e propria cella di simulazione\n",
    "while (np.size(at_pose(np.vstack((x_si,x[2,:])), goal_points, rotation_error=100)) != N): #condizione standard, dice che continua il ciclo loop\n",
    "    #finchè almeno un robot non è arrivato vicino al target. Cosa fa il ciclo while? \n",
    "    #Explaining the code above: the unicycle state takes the center of rotation of the robot as [0,0] while the state we use (so called single integrator state) uses the 'nose' of the robot. Hence these two are offset and we need to convert back and forth (this can also be noted when we will plot the robot's trajectory the 'true' starting point is slightly offset from the one we gave to the simulator).\n",
    "    #Come prima cosa prendiamo lo stato del robto, lo stato xvero e xsingolo. Poi abbiamo querllo che sarà il nostro compito, ovvero dare i comandi di controllo\n",
    "    #abbiamo utilizzato il controllore del robotarium e dovremo definire il controllore, tramite una nuova funzione. Il nostro algoritmo di controllo\n",
    "    #sarà una funzione. La nostra funzione dovrà implementare il problema del controllo in avanti. Non lo faremo ma è possibile aggiustare l'uscita per aggiustare\n",
    "    #gli urti, ci sono delle barriere ma non lo considerermo. dxu si prende il controllo , lo stato e ci restituisce il prossimo stato.\n",
    "    #sETTIAMO le velocità, facciamo lo step e ci salviamo un pò di storia per plottare successivamente. Poi abbiamo un ultima riga che semplicmente,\n",
    "    #crea uno script, buona prasis lasciarla  ma non dobbiamo investigarla. Come task proviamo a plottare le traiettorie.\n",
    "    #Main simulation loop\n",
    "    # Get poses of agents\n",
    "    x = r.get_poses()\n",
    "    x_si = uni_to_si_states(x)\n",
    "\n",
    "    # Create single-integrator control inputs\n",
    "    # In the project you will create your own controller. \n",
    "    # Task: How do you think this can be done?\n",
    "    dxi = single_integrator_position_controller(x_si, goal_points[:2][:])\n",
    "\n",
    "    # Create safe control inputs (i.e., no collisions)\n",
    "    dxi = si_barrier_cert(dxi, x_si) \n",
    "\n",
    "    # Task: what does this function do?\n",
    "    dxu = si_to_uni_dyn(dxi, x)\n",
    "\n",
    "    # Set the velocities by mapping the single-integrator inputs to unciycle inputs\n",
    "    r.set_velocities(np.arange(N), dxu)\n",
    "    # Iterate the simulation\n",
    "    r.step()\n",
    "\n",
    "    X_plot.append(x_si)\n",
    "\n",
    "#Call at end of script to print debug information and for your script to run on the Robotarium server properly\n",
    "r.call_at_scripts_end()"
   ]
  },
  {
   "cell_type": "code",
   "execution_count": 4,
   "metadata": {
    "colab": {
     "base_uri": "https://localhost:8080/",
     "height": 472
    },
    "id": "l40a0nfhf42a",
    "outputId": "3b026f5b-93f6-4748-8af9-352fdf453a81"
   },
   "outputs": [
    {
     "data": {
      "text/plain": [
       "Text(0, 0.5, 'Y [m]')"
      ]
     },
     "execution_count": 4,
     "metadata": {},
     "output_type": "execute_result"
    },
    {
     "data": {
      "image/png": "[encoded data removed]",
      "text/plain": [
       "<Figure size 640x480 with 1 Axes>"
      ]
     },
     "metadata": {},
     "output_type": "display_data"
    }
   ],
   "source": [
    "import matplotlib.pyplot as plt\n",
    "from matplotlib import cm\n",
    "from matplotlib.ticker import LinearLocator\n",
    "import numpy as np\n",
    "\n",
    "X_plot = np.array(X_plot)\n",
    "#Task: create of plot of the trajectory\n",
    "plt.plot(X_plot[:,0],X_plot[:,1],linewidth=2)  #prima e seconda componente, l'angolo non ci interessa \n",
    "plt.plot(1.05,0,8,'*',color='black')\n",
    "#Drawing options\n",
    "plt.ylim(-1,1)\n",
    "plt.xlim(-1.5,1.5)\n",
    "plt.xlabel('X [m]')\n",
    "plt.ylabel('Y [m]')"
   ]
  }
 ],
 "metadata": {
  "colab": {
   "provenance": []
  },
  "kernelspec": {
   "display_name": "Python 3",
   "language": "python",
   "name": "python3"
  },
  "language_info": {
   "codemirror_mode": {
    "name": "ipython",
    "version": 3
   },
   "file_extension": ".py",
   "mimetype": "text/x-python",
   "name": "python",
   "nbconvert_exporter": "python",
   "pygments_lexer": "ipython3",
   "version": "3.11.2"
  }
 },
 "nbformat": 4,
 "nbformat_minor": 1
}
